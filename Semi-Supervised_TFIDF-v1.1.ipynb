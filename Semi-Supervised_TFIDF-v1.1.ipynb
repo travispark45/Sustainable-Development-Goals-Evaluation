{
 "cells": [
  {
   "cell_type": "markdown",
   "metadata": {},
   "source": [
    "Use TFIDF and Cosine similarity to define high probability scores and low probability scores to define positive and negative matches.  Then use semi-supervised learning to fill in the labels for the remaining matches.  "
   ]
  },
  {
   "cell_type": "code",
   "execution_count": 1,
   "metadata": {
    "collapsed": false,
    "scrolled": true
   },
   "outputs": [],
   "source": [
    "import nltk\n",
    "from nltk.corpus import stopwords\n",
    "import pandas as pd\n",
    "import numpy as np\n",
    "from sklearn.feature_extraction.text import TfidfVectorizer\n",
    "from sklearn.metrics.pairwise import cosine_similarity\n",
    "from sklearn.model_selection import train_test_split\n",
    "from sklearn.feature_selection import RFE\n",
    "from sklearn.linear_model import LogisticRegression\n",
    "from sklearn.ensemble import AdaBoostClassifier\n",
    "from sklearn.tree import DecisionTreeClassifier\n",
    "from sklearn.neighbors import KNeighborsClassifier\n",
    "from sklearn.naive_bayes import MultinomialNB\n",
    "from sklearn.feature_selection import SelectKBest\n",
    "from sklearn.feature_selection import chi2\n",
    "from sklearn.cluster import KMeans\n",
    "from sklearn import svm\n",
    "from sklearn.svm import SVC\n",
    "from sklearn.svm import SVR\n",
    "from sklearn.neural_network import MLPClassifier\n",
    "from sklearn.naive_bayes import GaussianNB\n",
    "from sklearn.linear_model import Perceptron\n",
    "from sklearn.semi_supervised import LabelSpreading\n",
    "from sklearn.metrics import *\n",
    "import seaborn as sns\n",
    "import matplotlib.pyplot as plt\n",
    "\n",
    "porter = nltk.PorterStemmer()\n",
    "\n",
    "% matplotlib inline\n",
    "sns.set(style=\"darkgrid\", color_codes=True)\n",
    "stop = stopwords.words('english')\n",
    "dir = 'C:\\\\Users\\\\Travis Park\\\\Google Drive\\\\UN\\\\Team MOZART RAP\\\\'"
   ]
  },
  {
   "cell_type": "code",
   "execution_count": 2,
   "metadata": {
    "collapsed": false,
    "scrolled": false
   },
   "outputs": [],
   "source": [
    "tfidfvectorizer =TfidfVectorizer(ngram_range = (1,2),sublinear_tf=False, \n",
    "                                 min_df = 0.01, max_features = 1100) \n",
    "def TFIDFtotable(inputlist1, inputlist2, newcollist):\n",
    "    corpus = inputlist1 + inputlist2\n",
    "    \n",
    "    x = tfidfvectorizer.fit_transform(corpus)\n",
    "    x = pd.DataFrame((x * x.T).A)\n",
    "    \n",
    "    x = x.ix[:len(inputlist1)-1,len(inputlist1):]\n",
    "    x.columns = newcollist\n",
    "    x['Text'] = trimtext\n",
    "    x = pd.merge(x, Paragraph_DF, how = 'left', left_on = 'Text', right_on = 'StemText')\n",
    "    x=x.drop(['Text_x','Text_y','TrimText','StemText'],1)\n",
    "    x=pd.melt(x, id_vars=['Number'])\n",
    "    x.rename(columns={'Number':'Paragraph','variable': 'Target','value':'T_Cosine'}, inplace = True)\n",
    "    TFIDFTable = x    \n",
    "   \n",
    "    return TFIDFTable"
   ]
  },
  {
   "cell_type": "code",
   "execution_count": 3,
   "metadata": {
    "collapsed": true,
    "scrolled": false
   },
   "outputs": [],
   "source": [
    "def RemoveVerbs(string):\n",
    "    if len(string) > 0:\n",
    "        x = nltk.pos_tag(string.split(' '))\n",
    "        x = [(word, tag) for (word, tag) in x\n",
    "             if tag.startswith('N') \n",
    "             or tag.startswith('J')\n",
    "             or tag.startswith('R')]\n",
    "        x = ' '.join([i[0] for i in x])\n",
    "        return x\n",
    "    else:\n",
    "        return 'x x'"
   ]
  },
  {
   "cell_type": "markdown",
   "metadata": {},
   "source": [
    "Import SDG Goals and parse text"
   ]
  },
  {
   "cell_type": "code",
   "execution_count": 4,
   "metadata": {
    "collapsed": false,
    "scrolled": true
   },
   "outputs": [
    {
     "data": {
      "text/html": [
       "<div>\n",
       "<table border=\"1\" class=\"dataframe\">\n",
       "  <thead>\n",
       "    <tr style=\"text-align: right;\">\n",
       "      <th></th>\n",
       "      <th>ID</th>\n",
       "      <th>Goal</th>\n",
       "      <th>OrigionalText</th>\n",
       "      <th>GoalText</th>\n",
       "      <th>TrimGoal</th>\n",
       "    </tr>\n",
       "  </thead>\n",
       "  <tbody>\n",
       "    <tr>\n",
       "      <th>0</th>\n",
       "      <td>1</td>\n",
       "      <td>Poverty</td>\n",
       "      <td>Poverty End poverty in all its forms everywhere</td>\n",
       "      <td>poverty forms eveywhere</td>\n",
       "      <td>poverty forms eveywhere</td>\n",
       "    </tr>\n",
       "  </tbody>\n",
       "</table>\n",
       "</div>"
      ],
      "text/plain": [
       "   ID     Goal                                    OrigionalText  \\\n",
       "0   1  Poverty  Poverty End poverty in all its forms everywhere   \n",
       "\n",
       "                  GoalText                 TrimGoal  \n",
       "0  poverty forms eveywhere  poverty forms eveywhere  "
      ]
     },
     "execution_count": 4,
     "metadata": {},
     "output_type": "execute_result"
    }
   ],
   "source": [
    "SDG_Targets = pd.read_excel(dir +'SDG_Goals.xlsx', names = ['ID', 'Goal','OrigionalText','GoalText'],sheetname = 'Sheet1')\n",
    "SDG_Targets['TrimGoal'] = ''\n",
    "\n",
    "targtext = []\n",
    "x=0\n",
    "\n",
    "while x < len(SDG_Targets):\n",
    "    y = SDG_Targets['GoalText'][x].lower().replace('-',' ').split(' ')\n",
    "    y = [z for z in y if z.isalpha() if z not in stop]\n",
    "    targtext.append(' '.join(y))\n",
    "    x=x+1\n",
    "    \n",
    "SDG_Targets['TrimGoal'] = targtext\n",
    "SDG_Targets['ID'] = SDG_Targets['ID'].astype(int)\n",
    "SDG_Targets.head(1)"
   ]
  },
  {
   "cell_type": "code",
   "execution_count": 5,
   "metadata": {
    "collapsed": true,
    "scrolled": true
   },
   "outputs": [],
   "source": [
    "test = list(SDG_Targets['TrimGoal'])"
   ]
  },
  {
   "cell_type": "markdown",
   "metadata": {},
   "source": [
    "Import training text and clean\n",
    "\n",
    "Training text is the Bhutan NDP and various other text chunks pertaining to SDGs"
   ]
  },
  {
   "cell_type": "code",
   "execution_count": 6,
   "metadata": {
    "collapsed": false,
    "scrolled": true
   },
   "outputs": [],
   "source": [
    "f = open(dir + 'Training_Doc.txt', 'r')\n",
    "f = f.read().replace('. \\n\\n','.\\n\\n').replace('-',' ').replace('\\x0c',' ').replace('...','').replace('Eleventh Five Year Plan',' ').split('.\\n\\n')\n",
    "f = [w.replace('\\n',' ') for w in f]\n",
    "\n",
    "w=0\n",
    "wlist=[]\n",
    "while w<len(f):\n",
    "    wlist.append(w)\n",
    "    w=w+1\n",
    "\n",
    "Paragraph_DF = pd.DataFrame(columns = ['Number','Text', 'TrimText'])\n",
    "Paragraph_DF['Number'] = wlist\n",
    "Paragraph_DF['Text'] = f"
   ]
  },
  {
   "cell_type": "markdown",
   "metadata": {},
   "source": [
    "Remove stopwords and verbs"
   ]
  },
  {
   "cell_type": "code",
   "execution_count": 8,
   "metadata": {
    "collapsed": false,
    "scrolled": true
   },
   "outputs": [],
   "source": [
    "ttext = []\n",
    "x = 0 \n",
    "while x < len(Paragraph_DF):\n",
    "    y = Paragraph_DF['Text'][x].lower().split(' ')\n",
    "    y = [z for z in y if z.isalpha() if z not in stop]\n",
    "    y = RemoveVerbs(' '.join(y))\n",
    "    ttext.append(y)\n",
    "    x=x+1\n",
    "    \n",
    "Paragraph_DF['TrimText'] = ttext"
   ]
  },
  {
   "cell_type": "markdown",
   "metadata": {},
   "source": [
    "Stem the text"
   ]
  },
  {
   "cell_type": "code",
   "execution_count": 9,
   "metadata": {
    "collapsed": false,
    "scrolled": false
   },
   "outputs": [],
   "source": [
    "stemtext = []\n",
    "x = 0\n",
    "while x<len(Paragraph_DF):\n",
    "    y = Paragraph_DF['TrimText'][x].split(' ')\n",
    "    y = ' '.join([porter.stem(z) for z in y])\n",
    "    stemtext.append(y)\n",
    "    x=x+1\n",
    "    \n",
    "Paragraph_DF['StemText'] = stemtext"
   ]
  },
  {
   "cell_type": "code",
   "execution_count": 10,
   "metadata": {
    "collapsed": false,
    "scrolled": true
   },
   "outputs": [
    {
     "data": {
      "text/html": [
       "<div>\n",
       "<table border=\"1\" class=\"dataframe\">\n",
       "  <thead>\n",
       "    <tr style=\"text-align: right;\">\n",
       "      <th></th>\n",
       "      <th>Number</th>\n",
       "      <th>Text</th>\n",
       "      <th>TrimText</th>\n",
       "      <th>StemText</th>\n",
       "    </tr>\n",
       "  </thead>\n",
       "  <tbody>\n",
       "    <tr>\n",
       "      <th>0</th>\n",
       "      <td>0</td>\n",
       "      <td>Main Document Volume I  1   ELEVENTH FIVE ...</td>\n",
       "      <td>main document volume eleventh year plan june m...</td>\n",
       "      <td>main document volum eleventh year plan june ma...</td>\n",
       "    </tr>\n",
       "  </tbody>\n",
       "</table>\n",
       "</div>"
      ],
      "text/plain": [
       "   Number                                               Text  \\\n",
       "0       0      Main Document Volume I  1   ELEVENTH FIVE ...   \n",
       "\n",
       "                                            TrimText  \\\n",
       "0  main document volume eleventh year plan june m...   \n",
       "\n",
       "                                            StemText  \n",
       "0  main document volum eleventh year plan june ma...  "
      ]
     },
     "execution_count": 10,
     "metadata": {},
     "output_type": "execute_result"
    }
   ],
   "source": [
    "Paragraph_DF.head(1)"
   ]
  },
  {
   "cell_type": "code",
   "execution_count": 11,
   "metadata": {
    "collapsed": true,
    "scrolled": false
   },
   "outputs": [],
   "source": [
    "alldocs = ttext+targtext"
   ]
  },
  {
   "cell_type": "markdown",
   "metadata": {},
   "source": [
    "Initialize TF-IDF vectorizer\n",
    "\n",
    "Create Term-Document Matrix for all SDGs and Paragraphs in Training text\n",
    "\n",
    "Calculate Cosine Similarity for all SDGs and Paragraphs in Training text\n",
    "\n",
    "Trim table so it displays Cosine Similarity at the intersection of Paragraph (rows) and SDG (columns) in dataframe \"z\"\n",
    "\n",
    "Dataframe \"z2\" is an unstacked version with Goal, Paragraph, and Cosine Similarity as columns filtered for non - zero values"
   ]
  },
  {
   "cell_type": "code",
   "execution_count": 12,
   "metadata": {
    "collapsed": false,
    "scrolled": true
   },
   "outputs": [
    {
     "data": {
      "text/plain": [
       "0.07408536846829775"
      ]
     },
     "execution_count": 12,
     "metadata": {},
     "output_type": "execute_result"
    }
   ],
   "source": [
    "stuff = \"ngram_range = (1,2),sublinear_tf=False, min_df = 0.01, max_features = 1100\"\n",
    "tfidfvectorizer =TfidfVectorizer(ngram_range = (1,2),sublinear_tf=False, \n",
    "                                 min_df = 0.01, max_features = 1100) \n",
    "\n",
    "x = tfidfvectorizer.fit_transform(alldocs)\n",
    "y = pd.DataFrame((x * x.T).A)\n",
    "\n",
    "z = y.ix[:len(ttext)-1,len(ttext):]\n",
    "z.columns = list(SDG_Targets['ID'])\n",
    "\n",
    "z1=z.unstack().reset_index()\n",
    "z1.columns = ['Goal','Paragraph','CosineSimilarity']\n",
    "z2 = z1[(z1['Goal'] != z1['Paragraph']) & (z1['CosineSimilarity'] > 0)]\n",
    "\n",
    "z2.sort_values(by = 'CosineSimilarity', ascending = False).head()\n",
    "\n",
    "avg = z2['CosineSimilarity'].mean()\n",
    "avg"
   ]
  },
  {
   "cell_type": "code",
   "execution_count": 13,
   "metadata": {
    "collapsed": false,
    "scrolled": true
   },
   "outputs": [],
   "source": [
    "zx = z.reset_index()\n",
    "zx.rename(columns={'index': 'paragraph'}, inplace=True)"
   ]
  },
  {
   "cell_type": "markdown",
   "metadata": {},
   "source": [
    "For dataframe \"x\" (Term - Document Matrix) rename columns to feature names and only include Paragraph rows"
   ]
  },
  {
   "cell_type": "code",
   "execution_count": 14,
   "metadata": {
    "collapsed": false,
    "scrolled": true
   },
   "outputs": [],
   "source": [
    "x1 = pd.DataFrame(x.toarray(),columns = [tfidfvectorizer.get_feature_names()])\n",
    "x1 = x1.ix[:len(ttext)-1,]\n",
    "x1 = x1.reset_index()\n",
    "c = zx.columns "
   ]
  },
  {
   "cell_type": "markdown",
   "metadata": {},
   "source": [
    "Append the Cosine Similarity to each Goal for each paragraph as columns\n",
    "\n",
    "Format: Paragraph #, Term1 ... Term N, Goal1, Goal2 ... Goal17"
   ]
  },
  {
   "cell_type": "code",
   "execution_count": 15,
   "metadata": {
    "collapsed": false
   },
   "outputs": [],
   "source": [
    "x1.rename(columns={'level_0': 'paragraph'}, inplace=True)\n",
    "xx = pd.merge(x1, zx, how = 'left', left_on = 'paragraph', right_on = 'paragraph')"
   ]
  },
  {
   "cell_type": "code",
   "execution_count": 58,
   "metadata": {
    "collapsed": false,
    "scrolled": true
   },
   "outputs": [
    {
     "data": {
      "text/plain": [
       "1     0.000000\n",
       "2     0.000000\n",
       "3     0.000000\n",
       "4     0.000000\n",
       "5     0.000000\n",
       "6     0.031950\n",
       "7     0.082011\n",
       "8     0.011279\n",
       "9     0.028059\n",
       "10    0.000000\n",
       "11    0.032916\n",
       "12    0.049954\n",
       "13    0.000000\n",
       "14    0.189855\n",
       "15    0.048593\n",
       "16    0.055911\n",
       "17    0.167185\n",
       "Name: 58, dtype: float64"
      ]
     },
     "execution_count": 58,
     "metadata": {},
     "output_type": "execute_result"
    }
   ],
   "source": [
    "xx.ix[58,1049:]"
   ]
  },
  {
   "cell_type": "markdown",
   "metadata": {},
   "source": [
    "Calculate the Cosine Similarity for the top 5%\n",
    "\n",
    "Any values for that Goal above the threshold will be defined as matches and used later in a generated training set"
   ]
  },
  {
   "cell_type": "code",
   "execution_count": 16,
   "metadata": {
    "collapsed": false,
    "scrolled": true
   },
   "outputs": [
    {
     "name": "stdout",
     "output_type": "stream",
     "text": [
      "1     0.088550\n",
      "2     0.095592\n",
      "3     0.123701\n",
      "4     0.108298\n",
      "5     0.000000\n",
      "6     0.100782\n",
      "7     0.074953\n",
      "8     0.104804\n",
      "9     0.090345\n",
      "10    0.103122\n",
      "11    0.077436\n",
      "12    0.092174\n",
      "13    0.000000\n",
      "14    0.095111\n",
      "15    0.066243\n",
      "16    0.102474\n",
      "17    0.100191\n",
      "dtype: float64\n"
     ]
    }
   ],
   "source": [
    "q = xx.ix[:,len(xx.columns)-17:].quantile(q = .95)\n",
    "print(q)\n",
    "q = list(q)"
   ]
  },
  {
   "cell_type": "markdown",
   "metadata": {},
   "source": [
    "For each Goal, loop through each paragraph\n",
    "\n",
    "If the Cosine Similarity is higher than the threshold defined in the previous step, label it as 1 (match)\n",
    "\n",
    "If the Cosines Similarity is lower than the 0.0000001, label it as 0 (non match)\n",
    "\n",
    "If it is between these two we are uncertain of its value so label it as False (uncertain), \n",
    "  we will then use the known labels to predict this one"
   ]
  },
  {
   "cell_type": "code",
   "execution_count": 17,
   "metadata": {
    "collapsed": false,
    "scrolled": false
   },
   "outputs": [],
   "source": [
    "i = 0\n",
    "while i < len(q):\n",
    "    j = 0\n",
    "    while j < len(zx):\n",
    "        #print(zx.ix[j,i+1])\n",
    "        if zx.ix[j,i+1] >= q[i]:\n",
    "            zx.ix[j,i+1] = 1\n",
    "        elif zx.ix[j,i+1] < 0.0000001:\n",
    "            zx.ix[j,i+1] = 0\n",
    "        else:\n",
    "            zx.ix[j,i+1] = -1\n",
    "        j=j+1\n",
    "    i=i+1 "
   ]
  },
  {
   "cell_type": "markdown",
   "metadata": {},
   "source": [
    "Training data is the Term - Document Matrix for each paragraph\n",
    "\n",
    "Labels are the labels defined in previous step\n",
    "\n",
    "Still need to build looping function to work on all Goals, right now it only does the one defined"
   ]
  },
  {
   "cell_type": "code",
   "execution_count": 19,
   "metadata": {
    "collapsed": false
   },
   "outputs": [],
   "source": [
    "X = x1\n",
    "y = zx.ix[:,6]"
   ]
  },
  {
   "cell_type": "code",
   "execution_count": 71,
   "metadata": {
    "collapsed": false
   },
   "outputs": [
    {
     "data": {
      "image/png": "[encoded data removed]",
      "text/plain": [
       "<matplotlib.figure.Figure at 0x1c9b502d080>"
      ]
     },
     "metadata": {},
     "output_type": "display_data"
    }
   ],
   "source": [
    "sns.countplot(y);"
   ]
  },
  {
   "cell_type": "code",
   "execution_count": 20,
   "metadata": {
    "collapsed": true
   },
   "outputs": [],
   "source": [
    "unlab_ls = x1\n",
    "unlab_ls['lab'] = y"
   ]
  },
  {
   "cell_type": "code",
   "execution_count": 21,
   "metadata": {
    "collapsed": false
   },
   "outputs": [
    {
     "data": {
      "text/plain": [
       "{-1.0, 0.0, 1.0}"
      ]
     },
     "execution_count": 21,
     "metadata": {},
     "output_type": "execute_result"
    }
   ],
   "source": [
    "set(y)"
   ]
  },
  {
   "cell_type": "code",
   "execution_count": 22,
   "metadata": {
    "collapsed": false
   },
   "outputs": [
    {
     "data": {
      "text/html": [
       "<div>\n",
       "<table border=\"1\" class=\"dataframe\">\n",
       "  <thead>\n",
       "    <tr style=\"text-align: right;\">\n",
       "      <th></th>\n",
       "      <th>paragraph</th>\n",
       "      <th>able</th>\n",
       "      <th>access</th>\n",
       "      <th>account</th>\n",
       "      <th>accountability</th>\n",
       "      <th>act</th>\n",
       "      <th>action</th>\n",
       "      <th>activities</th>\n",
       "      <th>activities proportion</th>\n",
       "      <th>acute</th>\n",
       "      <th>...</th>\n",
       "      <th>worst days</th>\n",
       "      <th>year</th>\n",
       "      <th>year mean</th>\n",
       "      <th>year net</th>\n",
       "      <th>years</th>\n",
       "      <th>yet</th>\n",
       "      <th>youth</th>\n",
       "      <th>zhemgang</th>\n",
       "      <th>lab</th>\n",
       "      <th>Goal6</th>\n",
       "    </tr>\n",
       "  </thead>\n",
       "  <tbody>\n",
       "    <tr>\n",
       "      <th>0</th>\n",
       "      <td>0</td>\n",
       "      <td>0.0</td>\n",
       "      <td>0.000000</td>\n",
       "      <td>0.0</td>\n",
       "      <td>0.0</td>\n",
       "      <td>0.0</td>\n",
       "      <td>0.0</td>\n",
       "      <td>0.0</td>\n",
       "      <td>0.0</td>\n",
       "      <td>0.0</td>\n",
       "      <td>...</td>\n",
       "      <td>0.0</td>\n",
       "      <td>0.108385</td>\n",
       "      <td>0.0</td>\n",
       "      <td>0.0</td>\n",
       "      <td>0.0</td>\n",
       "      <td>0.0</td>\n",
       "      <td>0.000000</td>\n",
       "      <td>0.0</td>\n",
       "      <td>0.0</td>\n",
       "      <td>0.0</td>\n",
       "    </tr>\n",
       "    <tr>\n",
       "      <th>1</th>\n",
       "      <td>1</td>\n",
       "      <td>0.0</td>\n",
       "      <td>0.000000</td>\n",
       "      <td>0.0</td>\n",
       "      <td>0.0</td>\n",
       "      <td>0.0</td>\n",
       "      <td>0.0</td>\n",
       "      <td>0.0</td>\n",
       "      <td>0.0</td>\n",
       "      <td>0.0</td>\n",
       "      <td>...</td>\n",
       "      <td>0.0</td>\n",
       "      <td>0.000000</td>\n",
       "      <td>0.0</td>\n",
       "      <td>0.0</td>\n",
       "      <td>0.0</td>\n",
       "      <td>0.0</td>\n",
       "      <td>0.000000</td>\n",
       "      <td>0.0</td>\n",
       "      <td>0.0</td>\n",
       "      <td>0.0</td>\n",
       "    </tr>\n",
       "    <tr>\n",
       "      <th>2</th>\n",
       "      <td>2</td>\n",
       "      <td>0.0</td>\n",
       "      <td>0.211777</td>\n",
       "      <td>0.0</td>\n",
       "      <td>0.0</td>\n",
       "      <td>0.0</td>\n",
       "      <td>0.0</td>\n",
       "      <td>0.0</td>\n",
       "      <td>0.0</td>\n",
       "      <td>0.0</td>\n",
       "      <td>...</td>\n",
       "      <td>0.0</td>\n",
       "      <td>0.000000</td>\n",
       "      <td>0.0</td>\n",
       "      <td>0.0</td>\n",
       "      <td>0.0</td>\n",
       "      <td>0.0</td>\n",
       "      <td>0.273476</td>\n",
       "      <td>0.0</td>\n",
       "      <td>0.0</td>\n",
       "      <td>0.0</td>\n",
       "    </tr>\n",
       "    <tr>\n",
       "      <th>3</th>\n",
       "      <td>3</td>\n",
       "      <td>0.0</td>\n",
       "      <td>0.000000</td>\n",
       "      <td>0.0</td>\n",
       "      <td>0.0</td>\n",
       "      <td>0.0</td>\n",
       "      <td>0.0</td>\n",
       "      <td>0.0</td>\n",
       "      <td>0.0</td>\n",
       "      <td>0.0</td>\n",
       "      <td>...</td>\n",
       "      <td>0.0</td>\n",
       "      <td>0.000000</td>\n",
       "      <td>0.0</td>\n",
       "      <td>0.0</td>\n",
       "      <td>0.0</td>\n",
       "      <td>0.0</td>\n",
       "      <td>0.000000</td>\n",
       "      <td>0.0</td>\n",
       "      <td>0.0</td>\n",
       "      <td>0.0</td>\n",
       "    </tr>\n",
       "    <tr>\n",
       "      <th>4</th>\n",
       "      <td>4</td>\n",
       "      <td>0.0</td>\n",
       "      <td>0.000000</td>\n",
       "      <td>0.0</td>\n",
       "      <td>0.0</td>\n",
       "      <td>0.0</td>\n",
       "      <td>0.0</td>\n",
       "      <td>0.0</td>\n",
       "      <td>0.0</td>\n",
       "      <td>0.0</td>\n",
       "      <td>...</td>\n",
       "      <td>0.0</td>\n",
       "      <td>0.000000</td>\n",
       "      <td>0.0</td>\n",
       "      <td>0.0</td>\n",
       "      <td>0.0</td>\n",
       "      <td>0.0</td>\n",
       "      <td>0.000000</td>\n",
       "      <td>0.0</td>\n",
       "      <td>0.0</td>\n",
       "      <td>0.0</td>\n",
       "    </tr>\n",
       "  </tbody>\n",
       "</table>\n",
       "<p>5 rows × 1051 columns</p>\n",
       "</div>"
      ],
      "text/plain": [
       "   paragraph  able    access  account  accountability  act  action  \\\n",
       "0          0   0.0  0.000000      0.0             0.0  0.0     0.0   \n",
       "1          1   0.0  0.000000      0.0             0.0  0.0     0.0   \n",
       "2          2   0.0  0.211777      0.0             0.0  0.0     0.0   \n",
       "3          3   0.0  0.000000      0.0             0.0  0.0     0.0   \n",
       "4          4   0.0  0.000000      0.0             0.0  0.0     0.0   \n",
       "\n",
       "   activities  activities proportion  acute  ...    worst days      year  \\\n",
       "0         0.0                    0.0    0.0  ...           0.0  0.108385   \n",
       "1         0.0                    0.0    0.0  ...           0.0  0.000000   \n",
       "2         0.0                    0.0    0.0  ...           0.0  0.000000   \n",
       "3         0.0                    0.0    0.0  ...           0.0  0.000000   \n",
       "4         0.0                    0.0    0.0  ...           0.0  0.000000   \n",
       "\n",
       "   year mean  year net  years  yet     youth  zhemgang  lab  Goal6  \n",
       "0        0.0       0.0    0.0  0.0  0.000000       0.0  0.0    0.0  \n",
       "1        0.0       0.0    0.0  0.0  0.000000       0.0  0.0    0.0  \n",
       "2        0.0       0.0    0.0  0.0  0.273476       0.0  0.0    0.0  \n",
       "3        0.0       0.0    0.0  0.0  0.000000       0.0  0.0    0.0  \n",
       "4        0.0       0.0    0.0  0.0  0.000000       0.0  0.0    0.0  \n",
       "\n",
       "[5 rows x 1051 columns]"
      ]
     },
     "execution_count": 22,
     "metadata": {},
     "output_type": "execute_result"
    }
   ],
   "source": [
    "x1['Goal6'] = y\n",
    "x1.head()"
   ]
  },
  {
   "cell_type": "markdown",
   "metadata": {},
   "source": [
    "Initialize Positive Naive Bayes Classifier (http://www.nltk.org/api/nltk.classify.html#module-nltk.classify)\n",
    "\n",
    "This method only takes true values as training data and predicts a binary for inputs"
   ]
  },
  {
   "cell_type": "code",
   "execution_count": 23,
   "metadata": {
    "collapsed": true
   },
   "outputs": [],
   "source": [
    "from nltk.classify import PositiveNaiveBayesClassifier"
   ]
  },
  {
   "cell_type": "code",
   "execution_count": 24,
   "metadata": {
    "collapsed": false
   },
   "outputs": [],
   "source": [
    "pstv = x1[['paragraph','Goal6']][(x1['Goal6'] == 1)]\n",
    "\n",
    "pstv_text = pd.merge(Paragraph_DF,pstv, how = 'inner',left_on = 'Number', right_on = 'paragraph')\n",
    "pstv_list = list(pstv_text['TrimText'])"
   ]
  },
  {
   "cell_type": "code",
   "execution_count": 25,
   "metadata": {
    "collapsed": false
   },
   "outputs": [
    {
     "data": {
      "text/plain": [
       "'main thrust area energy sector eleventh plan security sustainable'"
      ]
     },
     "execution_count": 25,
     "metadata": {},
     "output_type": "execute_result"
    }
   ],
   "source": [
    "unlab = x1[['paragraph','Goal6']][(x1['Goal6'] == -1)]\n",
    "\n",
    "unlab_text = pd.merge(Paragraph_DF,unlab, how = 'inner',left_on = 'Number', right_on = 'paragraph')\n",
    "unlab_text['Label'] = ''\n",
    "unlab_list = list(unlab_text['TrimText'])\n",
    "unlab_list[100]"
   ]
  },
  {
   "cell_type": "code",
   "execution_count": 26,
   "metadata": {
    "collapsed": true
   },
   "outputs": [],
   "source": [
    "def features(sentence):\n",
    "    words = sentence.lower().split()\n",
    "    return dict(('contains(%s)' % w, True) for w in words)"
   ]
  },
  {
   "cell_type": "code",
   "execution_count": 27,
   "metadata": {
    "collapsed": true
   },
   "outputs": [],
   "source": [
    "positive_featuresets = list(map(features, pstv_list))\n",
    "unlabeled_featuresets = list(map(features, unlab_list))"
   ]
  },
  {
   "cell_type": "code",
   "execution_count": 96,
   "metadata": {
    "collapsed": false
   },
   "outputs": [],
   "source": [
    "clf = PositiveNaiveBayesClassifier.train(positive_featuresets, unlabeled_featuresets,positive_prob_prior=0.0005)"
   ]
  },
  {
   "cell_type": "code",
   "execution_count": 97,
   "metadata": {
    "collapsed": false,
    "scrolled": false
   },
   "outputs": [
    {
     "name": "stderr",
     "output_type": "stream",
     "text": [
      "C:\\Users\\Travis Park\\Anaconda3_1\\lib\\site-packages\\ipykernel\\__main__.py:3: SettingWithCopyWarning: \n",
      "A value is trying to be set on a copy of a slice from a DataFrame\n",
      "\n",
      "See the caveats in the documentation: http://pandas.pydata.org/pandas-docs/stable/indexing.html#indexing-view-versus-copy\n",
      "  app.launch_new_instance()\n"
     ]
    }
   ],
   "source": [
    "i = 0\n",
    "while i < len(unlab_list):\n",
    "    unlab_text['Label'][i] = clf.classify(features(unlab_list[i]))\n",
    "    i=i+1"
   ]
  },
  {
   "cell_type": "code",
   "execution_count": 98,
   "metadata": {
    "collapsed": false
   },
   "outputs": [
    {
     "data": {
      "image/png": "[encoded data removed]",
      "text/plain": [
       "<matplotlib.figure.Figure at 0x1c9b4f68a20>"
      ]
     },
     "metadata": {},
     "output_type": "display_data"
    }
   ],
   "source": [
    "sns.countplot(x=\"Label\", data=unlab_text);"
   ]
  },
  {
   "cell_type": "code",
   "execution_count": 99,
   "metadata": {
    "collapsed": false
   },
   "outputs": [
    {
     "name": "stderr",
     "output_type": "stream",
     "text": [
      "C:\\Users\\Travis Park\\Anaconda3_1\\lib\\site-packages\\ipykernel\\__main__.py:4: SettingWithCopyWarning: \n",
      "A value is trying to be set on a copy of a slice from a DataFrame\n",
      "\n",
      "See the caveats in the documentation: http://pandas.pydata.org/pandas-docs/stable/indexing.html#indexing-view-versus-copy\n"
     ]
    }
   ],
   "source": [
    "Paragraph_DF['Label6'] = ''\n",
    "i = 0\n",
    "while i < len(Paragraph_DF):\n",
    "    Paragraph_DF['Label6'][i] = clf.classify(features(Paragraph_DF['TrimText'][i]))\n",
    "    i=i+1"
   ]
  },
  {
   "cell_type": "code",
   "execution_count": 100,
   "metadata": {
    "collapsed": false,
    "scrolled": true
   },
   "outputs": [
    {
     "data": {
      "image/png": "[encoded data removed]",
      "text/plain": [
       "<matplotlib.figure.Figure at 0x1c9ba6b94a8>"
      ]
     },
     "metadata": {},
     "output_type": "display_data"
    }
   ],
   "source": [
    "sns.countplot(x=\"Label6\", data=Paragraph_DF);"
   ]
  },
  {
   "cell_type": "markdown",
   "metadata": {},
   "source": [
    "Compare the Positive Naive Bayes Classifier with the results of a Label Spreading model (http://scikit-learn.org/stable/modules/generated/sklearn.semi_supervised.LabelSpreading.html)\n",
    "\n",
    "Label Spreading is a semi-supervised model that takes a sparsely labelled dataset and extends labels based on natural groups or clusters that appear in the dataset"
   ]
  },
  {
   "cell_type": "code",
   "execution_count": 68,
   "metadata": {
    "collapsed": false
   },
   "outputs": [
    {
     "data": {
      "text/plain": [
       "{0.0, 1.0}"
      ]
     },
     "execution_count": 68,
     "metadata": {},
     "output_type": "execute_result"
    }
   ],
   "source": [
    "ls = LabelSpreading(kernel='rbf', gamma=20, n_neighbors=10,\n",
    "                    alpha=0.2, max_iter=50, tol=0.001, n_jobs=-1).fit(X, y)\n",
    "#ls100 = (label_propagation.LabelSpreading().fit(X, y), y)\n",
    "#rbf_svc = (svm.SVC(kernel='rbf').fit(X, y), y)\n",
    "ls.score(X,y)\n",
    "a = ls.score(X,y)\n",
    "output_labels = ls.transduction_\n",
    "set(output_labels)"
   ]
  },
  {
   "cell_type": "code",
   "execution_count": 69,
   "metadata": {
    "collapsed": false
   },
   "outputs": [
    {
     "data": {
      "text/plain": [
       "<matplotlib.axes._subplots.AxesSubplot at 0x1c9ba6abc88>"
      ]
     },
     "execution_count": 69,
     "metadata": {},
     "output_type": "execute_result"
    },
    {
     "data": {
      "image/png": "[encoded data removed]",
      "text/plain": [
       "<matplotlib.figure.Figure at 0x1c9ba6ab1d0>"
      ]
     },
     "metadata": {},
     "output_type": "display_data"
    }
   ],
   "source": [
    "X['Goal6'] = output_labels\n",
    "sns.countplot(x=\"Goal6\", data=X)"
   ]
  },
  {
   "cell_type": "markdown",
   "metadata": {
    "collapsed": true
   },
   "source": [
    "It appears that Label Spreading is much more selective than the Positive Naive Bayes Classifier\n",
    "\n",
    "To discover differences look at paragraphs labelled as True by the classifier, but False by Label Spreading"
   ]
  },
  {
   "cell_type": "code",
   "execution_count": 67,
   "metadata": {
    "collapsed": false
   },
   "outputs": [
    {
     "data": {
      "text/plain": [
       "' The KPIs for NKRA 3 – Food Secure and Sustained – are as follows:  i) Cereal self sufficiency enhanced   Cereal sufficiency will be enhanced from 64  percent in 2011 to 75 percent by 2017 18. Disaggregated targets for production  of rice, maize, wheat etc are kept under RNR Sector’s key result areas.  ii) Milk sufficiency enhanced – The target is to increase from 90 percent in  2011 to 100 percent sufficiency'"
      ]
     },
     "execution_count": 67,
     "metadata": {},
     "output_type": "execute_result"
    }
   ],
   "source": [
    "Paragraph_DF['Text'][326]"
   ]
  },
  {
   "cell_type": "code",
   "execution_count": 102,
   "metadata": {
    "collapsed": false
   },
   "outputs": [
    {
     "data": {
      "text/html": [
       "<div>\n",
       "<table border=\"1\" class=\"dataframe\">\n",
       "  <thead>\n",
       "    <tr style=\"text-align: right;\">\n",
       "      <th></th>\n",
       "      <th>Number</th>\n",
       "      <th>Label6</th>\n",
       "      <th>paragraph</th>\n",
       "      <th>Goal6</th>\n",
       "    </tr>\n",
       "  </thead>\n",
       "  <tbody>\n",
       "    <tr>\n",
       "      <th>9</th>\n",
       "      <td>9</td>\n",
       "      <td>True</td>\n",
       "      <td>9</td>\n",
       "      <td>0.0</td>\n",
       "    </tr>\n",
       "    <tr>\n",
       "      <th>22</th>\n",
       "      <td>22</td>\n",
       "      <td>True</td>\n",
       "      <td>22</td>\n",
       "      <td>0.0</td>\n",
       "    </tr>\n",
       "    <tr>\n",
       "      <th>96</th>\n",
       "      <td>96</td>\n",
       "      <td>True</td>\n",
       "      <td>96</td>\n",
       "      <td>0.0</td>\n",
       "    </tr>\n",
       "    <tr>\n",
       "      <th>180</th>\n",
       "      <td>180</td>\n",
       "      <td>True</td>\n",
       "      <td>180</td>\n",
       "      <td>0.0</td>\n",
       "    </tr>\n",
       "    <tr>\n",
       "      <th>191</th>\n",
       "      <td>191</td>\n",
       "      <td>True</td>\n",
       "      <td>191</td>\n",
       "      <td>0.0</td>\n",
       "    </tr>\n",
       "    <tr>\n",
       "      <th>202</th>\n",
       "      <td>202</td>\n",
       "      <td>True</td>\n",
       "      <td>202</td>\n",
       "      <td>0.0</td>\n",
       "    </tr>\n",
       "    <tr>\n",
       "      <th>326</th>\n",
       "      <td>326</td>\n",
       "      <td>True</td>\n",
       "      <td>326</td>\n",
       "      <td>0.0</td>\n",
       "    </tr>\n",
       "    <tr>\n",
       "      <th>331</th>\n",
       "      <td>331</td>\n",
       "      <td>True</td>\n",
       "      <td>331</td>\n",
       "      <td>0.0</td>\n",
       "    </tr>\n",
       "    <tr>\n",
       "      <th>334</th>\n",
       "      <td>334</td>\n",
       "      <td>True</td>\n",
       "      <td>334</td>\n",
       "      <td>0.0</td>\n",
       "    </tr>\n",
       "    <tr>\n",
       "      <th>339</th>\n",
       "      <td>339</td>\n",
       "      <td>True</td>\n",
       "      <td>339</td>\n",
       "      <td>0.0</td>\n",
       "    </tr>\n",
       "    <tr>\n",
       "      <th>340</th>\n",
       "      <td>340</td>\n",
       "      <td>True</td>\n",
       "      <td>340</td>\n",
       "      <td>0.0</td>\n",
       "    </tr>\n",
       "    <tr>\n",
       "      <th>366</th>\n",
       "      <td>366</td>\n",
       "      <td>True</td>\n",
       "      <td>366</td>\n",
       "      <td>0.0</td>\n",
       "    </tr>\n",
       "    <tr>\n",
       "      <th>431</th>\n",
       "      <td>431</td>\n",
       "      <td>True</td>\n",
       "      <td>431</td>\n",
       "      <td>0.0</td>\n",
       "    </tr>\n",
       "    <tr>\n",
       "      <th>615</th>\n",
       "      <td>615</td>\n",
       "      <td>True</td>\n",
       "      <td>615</td>\n",
       "      <td>0.0</td>\n",
       "    </tr>\n",
       "    <tr>\n",
       "      <th>617</th>\n",
       "      <td>617</td>\n",
       "      <td>True</td>\n",
       "      <td>617</td>\n",
       "      <td>0.0</td>\n",
       "    </tr>\n",
       "    <tr>\n",
       "      <th>638</th>\n",
       "      <td>638</td>\n",
       "      <td>True</td>\n",
       "      <td>638</td>\n",
       "      <td>0.0</td>\n",
       "    </tr>\n",
       "    <tr>\n",
       "      <th>646</th>\n",
       "      <td>646</td>\n",
       "      <td>True</td>\n",
       "      <td>646</td>\n",
       "      <td>0.0</td>\n",
       "    </tr>\n",
       "    <tr>\n",
       "      <th>661</th>\n",
       "      <td>661</td>\n",
       "      <td>True</td>\n",
       "      <td>661</td>\n",
       "      <td>0.0</td>\n",
       "    </tr>\n",
       "    <tr>\n",
       "      <th>693</th>\n",
       "      <td>693</td>\n",
       "      <td>True</td>\n",
       "      <td>693</td>\n",
       "      <td>0.0</td>\n",
       "    </tr>\n",
       "    <tr>\n",
       "      <th>697</th>\n",
       "      <td>697</td>\n",
       "      <td>True</td>\n",
       "      <td>697</td>\n",
       "      <td>0.0</td>\n",
       "    </tr>\n",
       "    <tr>\n",
       "      <th>700</th>\n",
       "      <td>700</td>\n",
       "      <td>True</td>\n",
       "      <td>700</td>\n",
       "      <td>0.0</td>\n",
       "    </tr>\n",
       "    <tr>\n",
       "      <th>701</th>\n",
       "      <td>701</td>\n",
       "      <td>True</td>\n",
       "      <td>701</td>\n",
       "      <td>0.0</td>\n",
       "    </tr>\n",
       "    <tr>\n",
       "      <th>702</th>\n",
       "      <td>702</td>\n",
       "      <td>True</td>\n",
       "      <td>702</td>\n",
       "      <td>0.0</td>\n",
       "    </tr>\n",
       "    <tr>\n",
       "      <th>710</th>\n",
       "      <td>710</td>\n",
       "      <td>True</td>\n",
       "      <td>710</td>\n",
       "      <td>0.0</td>\n",
       "    </tr>\n",
       "    <tr>\n",
       "      <th>726</th>\n",
       "      <td>726</td>\n",
       "      <td>True</td>\n",
       "      <td>726</td>\n",
       "      <td>0.0</td>\n",
       "    </tr>\n",
       "    <tr>\n",
       "      <th>761</th>\n",
       "      <td>761</td>\n",
       "      <td>True</td>\n",
       "      <td>761</td>\n",
       "      <td>0.0</td>\n",
       "    </tr>\n",
       "    <tr>\n",
       "      <th>772</th>\n",
       "      <td>772</td>\n",
       "      <td>True</td>\n",
       "      <td>772</td>\n",
       "      <td>0.0</td>\n",
       "    </tr>\n",
       "    <tr>\n",
       "      <th>773</th>\n",
       "      <td>773</td>\n",
       "      <td>True</td>\n",
       "      <td>773</td>\n",
       "      <td>0.0</td>\n",
       "    </tr>\n",
       "    <tr>\n",
       "      <th>791</th>\n",
       "      <td>791</td>\n",
       "      <td>True</td>\n",
       "      <td>791</td>\n",
       "      <td>0.0</td>\n",
       "    </tr>\n",
       "    <tr>\n",
       "      <th>814</th>\n",
       "      <td>814</td>\n",
       "      <td>True</td>\n",
       "      <td>814</td>\n",
       "      <td>0.0</td>\n",
       "    </tr>\n",
       "    <tr>\n",
       "      <th>...</th>\n",
       "      <td>...</td>\n",
       "      <td>...</td>\n",
       "      <td>...</td>\n",
       "      <td>...</td>\n",
       "    </tr>\n",
       "    <tr>\n",
       "      <th>906</th>\n",
       "      <td>906</td>\n",
       "      <td>True</td>\n",
       "      <td>906</td>\n",
       "      <td>0.0</td>\n",
       "    </tr>\n",
       "    <tr>\n",
       "      <th>920</th>\n",
       "      <td>920</td>\n",
       "      <td>True</td>\n",
       "      <td>920</td>\n",
       "      <td>0.0</td>\n",
       "    </tr>\n",
       "    <tr>\n",
       "      <th>922</th>\n",
       "      <td>922</td>\n",
       "      <td>True</td>\n",
       "      <td>922</td>\n",
       "      <td>0.0</td>\n",
       "    </tr>\n",
       "    <tr>\n",
       "      <th>939</th>\n",
       "      <td>939</td>\n",
       "      <td>True</td>\n",
       "      <td>939</td>\n",
       "      <td>0.0</td>\n",
       "    </tr>\n",
       "    <tr>\n",
       "      <th>953</th>\n",
       "      <td>953</td>\n",
       "      <td>True</td>\n",
       "      <td>953</td>\n",
       "      <td>0.0</td>\n",
       "    </tr>\n",
       "    <tr>\n",
       "      <th>967</th>\n",
       "      <td>967</td>\n",
       "      <td>True</td>\n",
       "      <td>967</td>\n",
       "      <td>0.0</td>\n",
       "    </tr>\n",
       "    <tr>\n",
       "      <th>970</th>\n",
       "      <td>970</td>\n",
       "      <td>True</td>\n",
       "      <td>970</td>\n",
       "      <td>0.0</td>\n",
       "    </tr>\n",
       "    <tr>\n",
       "      <th>974</th>\n",
       "      <td>974</td>\n",
       "      <td>True</td>\n",
       "      <td>974</td>\n",
       "      <td>0.0</td>\n",
       "    </tr>\n",
       "    <tr>\n",
       "      <th>995</th>\n",
       "      <td>995</td>\n",
       "      <td>True</td>\n",
       "      <td>995</td>\n",
       "      <td>0.0</td>\n",
       "    </tr>\n",
       "    <tr>\n",
       "      <th>1007</th>\n",
       "      <td>1007</td>\n",
       "      <td>True</td>\n",
       "      <td>1007</td>\n",
       "      <td>0.0</td>\n",
       "    </tr>\n",
       "    <tr>\n",
       "      <th>1009</th>\n",
       "      <td>1009</td>\n",
       "      <td>True</td>\n",
       "      <td>1009</td>\n",
       "      <td>0.0</td>\n",
       "    </tr>\n",
       "    <tr>\n",
       "      <th>1010</th>\n",
       "      <td>1010</td>\n",
       "      <td>True</td>\n",
       "      <td>1010</td>\n",
       "      <td>0.0</td>\n",
       "    </tr>\n",
       "    <tr>\n",
       "      <th>1018</th>\n",
       "      <td>1018</td>\n",
       "      <td>True</td>\n",
       "      <td>1018</td>\n",
       "      <td>0.0</td>\n",
       "    </tr>\n",
       "    <tr>\n",
       "      <th>1024</th>\n",
       "      <td>1024</td>\n",
       "      <td>True</td>\n",
       "      <td>1024</td>\n",
       "      <td>0.0</td>\n",
       "    </tr>\n",
       "    <tr>\n",
       "      <th>1043</th>\n",
       "      <td>1043</td>\n",
       "      <td>True</td>\n",
       "      <td>1043</td>\n",
       "      <td>0.0</td>\n",
       "    </tr>\n",
       "    <tr>\n",
       "      <th>1052</th>\n",
       "      <td>1052</td>\n",
       "      <td>True</td>\n",
       "      <td>1052</td>\n",
       "      <td>0.0</td>\n",
       "    </tr>\n",
       "    <tr>\n",
       "      <th>1059</th>\n",
       "      <td>1059</td>\n",
       "      <td>True</td>\n",
       "      <td>1059</td>\n",
       "      <td>0.0</td>\n",
       "    </tr>\n",
       "    <tr>\n",
       "      <th>1064</th>\n",
       "      <td>1064</td>\n",
       "      <td>True</td>\n",
       "      <td>1064</td>\n",
       "      <td>0.0</td>\n",
       "    </tr>\n",
       "    <tr>\n",
       "      <th>1066</th>\n",
       "      <td>1066</td>\n",
       "      <td>True</td>\n",
       "      <td>1066</td>\n",
       "      <td>0.0</td>\n",
       "    </tr>\n",
       "    <tr>\n",
       "      <th>1070</th>\n",
       "      <td>1070</td>\n",
       "      <td>True</td>\n",
       "      <td>1070</td>\n",
       "      <td>0.0</td>\n",
       "    </tr>\n",
       "    <tr>\n",
       "      <th>1075</th>\n",
       "      <td>1075</td>\n",
       "      <td>True</td>\n",
       "      <td>1075</td>\n",
       "      <td>0.0</td>\n",
       "    </tr>\n",
       "    <tr>\n",
       "      <th>1076</th>\n",
       "      <td>1076</td>\n",
       "      <td>True</td>\n",
       "      <td>1076</td>\n",
       "      <td>0.0</td>\n",
       "    </tr>\n",
       "    <tr>\n",
       "      <th>1084</th>\n",
       "      <td>1084</td>\n",
       "      <td>True</td>\n",
       "      <td>1084</td>\n",
       "      <td>0.0</td>\n",
       "    </tr>\n",
       "    <tr>\n",
       "      <th>1085</th>\n",
       "      <td>1085</td>\n",
       "      <td>True</td>\n",
       "      <td>1085</td>\n",
       "      <td>0.0</td>\n",
       "    </tr>\n",
       "    <tr>\n",
       "      <th>1089</th>\n",
       "      <td>1089</td>\n",
       "      <td>True</td>\n",
       "      <td>1089</td>\n",
       "      <td>0.0</td>\n",
       "    </tr>\n",
       "    <tr>\n",
       "      <th>1094</th>\n",
       "      <td>1094</td>\n",
       "      <td>True</td>\n",
       "      <td>1094</td>\n",
       "      <td>0.0</td>\n",
       "    </tr>\n",
       "    <tr>\n",
       "      <th>1098</th>\n",
       "      <td>1098</td>\n",
       "      <td>True</td>\n",
       "      <td>1098</td>\n",
       "      <td>0.0</td>\n",
       "    </tr>\n",
       "    <tr>\n",
       "      <th>1102</th>\n",
       "      <td>1102</td>\n",
       "      <td>True</td>\n",
       "      <td>1102</td>\n",
       "      <td>0.0</td>\n",
       "    </tr>\n",
       "    <tr>\n",
       "      <th>1106</th>\n",
       "      <td>1106</td>\n",
       "      <td>True</td>\n",
       "      <td>1106</td>\n",
       "      <td>0.0</td>\n",
       "    </tr>\n",
       "    <tr>\n",
       "      <th>1108</th>\n",
       "      <td>1108</td>\n",
       "      <td>True</td>\n",
       "      <td>1108</td>\n",
       "      <td>0.0</td>\n",
       "    </tr>\n",
       "  </tbody>\n",
       "</table>\n",
       "<p>68 rows × 4 columns</p>\n",
       "</div>"
      ],
      "text/plain": [
       "      Number Label6  paragraph  Goal6\n",
       "9          9   True          9    0.0\n",
       "22        22   True         22    0.0\n",
       "96        96   True         96    0.0\n",
       "180      180   True        180    0.0\n",
       "191      191   True        191    0.0\n",
       "202      202   True        202    0.0\n",
       "326      326   True        326    0.0\n",
       "331      331   True        331    0.0\n",
       "334      334   True        334    0.0\n",
       "339      339   True        339    0.0\n",
       "340      340   True        340    0.0\n",
       "366      366   True        366    0.0\n",
       "431      431   True        431    0.0\n",
       "615      615   True        615    0.0\n",
       "617      617   True        617    0.0\n",
       "638      638   True        638    0.0\n",
       "646      646   True        646    0.0\n",
       "661      661   True        661    0.0\n",
       "693      693   True        693    0.0\n",
       "697      697   True        697    0.0\n",
       "700      700   True        700    0.0\n",
       "701      701   True        701    0.0\n",
       "702      702   True        702    0.0\n",
       "710      710   True        710    0.0\n",
       "726      726   True        726    0.0\n",
       "761      761   True        761    0.0\n",
       "772      772   True        772    0.0\n",
       "773      773   True        773    0.0\n",
       "791      791   True        791    0.0\n",
       "814      814   True        814    0.0\n",
       "...      ...    ...        ...    ...\n",
       "906      906   True        906    0.0\n",
       "920      920   True        920    0.0\n",
       "922      922   True        922    0.0\n",
       "939      939   True        939    0.0\n",
       "953      953   True        953    0.0\n",
       "967      967   True        967    0.0\n",
       "970      970   True        970    0.0\n",
       "974      974   True        974    0.0\n",
       "995      995   True        995    0.0\n",
       "1007    1007   True       1007    0.0\n",
       "1009    1009   True       1009    0.0\n",
       "1010    1010   True       1010    0.0\n",
       "1018    1018   True       1018    0.0\n",
       "1024    1024   True       1024    0.0\n",
       "1043    1043   True       1043    0.0\n",
       "1052    1052   True       1052    0.0\n",
       "1059    1059   True       1059    0.0\n",
       "1064    1064   True       1064    0.0\n",
       "1066    1066   True       1066    0.0\n",
       "1070    1070   True       1070    0.0\n",
       "1075    1075   True       1075    0.0\n",
       "1076    1076   True       1076    0.0\n",
       "1084    1084   True       1084    0.0\n",
       "1085    1085   True       1085    0.0\n",
       "1089    1089   True       1089    0.0\n",
       "1094    1094   True       1094    0.0\n",
       "1098    1098   True       1098    0.0\n",
       "1102    1102   True       1102    0.0\n",
       "1106    1106   True       1106    0.0\n",
       "1108    1108   True       1108    0.0\n",
       "\n",
       "[68 rows x 4 columns]"
      ]
     },
     "execution_count": 102,
     "metadata": {},
     "output_type": "execute_result"
    }
   ],
   "source": [
    "temp = pd.merge(Paragraph_DF[['Number','Label6']], X[['paragraph','Goal6']], how = 'left', left_on = 'Number',right_on = 'paragraph')\n",
    "temp[(temp['Goal6'] == 0) &(temp['Label6'] == True)]"
   ]
  },
  {
   "cell_type": "code",
   "execution_count": null,
   "metadata": {
    "collapsed": true
   },
   "outputs": [],
   "source": []
  }
 ],
 "metadata": {
  "anaconda-cloud": {},
  "kernelspec": {
   "display_name": "Python [conda root]",
   "language": "python",
   "name": "conda-root-py"
  },
  "language_info": {
   "codemirror_mode": {
    "name": "ipython",
    "version": 3
   },
   "file_extension": ".py",
   "mimetype": "text/x-python",
   "name": "python",
   "nbconvert_exporter": "python",
   "pygments_lexer": "ipython3",
   "version": "3.5.2"
  }
 },
 "nbformat": 4,
 "nbformat_minor": 1
}
